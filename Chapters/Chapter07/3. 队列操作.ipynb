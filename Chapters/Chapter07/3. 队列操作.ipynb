{
 "cells": [
  {
   "cell_type": "code",
   "execution_count": 25,
   "metadata": {},
   "outputs": [],
   "source": [
    "import tensorflow as tf"
   ]
  },
  {
   "cell_type": "markdown",
   "metadata": {},
   "source": [
    "#### 1. 创建队列，并操作里面的元素。"
   ]
  },
  {
   "cell_type": "code",
   "execution_count": 26,
   "metadata": {},
   "outputs": [
    {
     "name": "stdout",
     "output_type": "stream",
     "text": [
      "0\n",
      "10\n",
      "1\n",
      "11\n",
      "2\n"
     ]
    }
   ],
   "source": [
    "q = tf.FIFOQueue(2, \"int32\")\n",
    "\n",
    "# 初始化\n",
    "init = q.enqueue_many(([0, 10],))\n",
    "\n",
    "# 出队列\n",
    "x = q.dequeue()\n",
    "y = x + 1\n",
    "\n",
    "# 入队列\n",
    "q_inc = q.enqueue([y])\n",
    "with tf.Session() as sess:\n",
    "    init.run()\n",
    "    for _ in range(5):\n",
    "        v, _ = sess.run([x, q_inc])\n",
    "        print(v)"
   ]
  },
  {
   "cell_type": "code",
   "execution_count": 27,
   "metadata": {},
   "outputs": [],
   "source": [
    "import numpy as np\n",
    "import threading\n",
    "import time"
   ]
  },
  {
   "cell_type": "markdown",
   "metadata": {},
   "source": [
    "#### 2. 这个程序每隔1秒判断是否需要停止并打印自己的ID。"
   ]
  },
  {
   "cell_type": "code",
   "execution_count": 28,
   "metadata": {},
   "outputs": [],
   "source": [
    "def MyLoop(coord, worker_id):\n",
    "    while not coord.should_stop():\n",
    "        if np.random.rand()<0.1:\n",
    "            print(\"Stoping from id: %d\\n\" % worker_id)\n",
    "            coord.request_stop()\n",
    "        else:\n",
    "            print (\"Working on id: %d\\n\" % worker_id)\n",
    "        time.sleep(1)"
   ]
  },
  {
   "cell_type": "markdown",
   "metadata": {},
   "source": [
    "#### 3. 创建、启动并退出线程。"
   ]
  },
  {
   "cell_type": "code",
   "execution_count": 34,
   "metadata": {},
   "outputs": [
    {
     "name": "stdout",
     "output_type": "stream",
     "text": [
      "Working on id: 0\n",
      "\n",
      "Working on id: 1\n",
      "\n",
      "Working on id: 2\n",
      "\n",
      "Working on id: 3\n",
      "\n",
      "Working on id: 4\n",
      "\n",
      "Stoping from id: 0\n",
      "\n",
      "hello world\n"
     ]
    }
   ],
   "source": [
    "# 申明一个tf.train.Coordinator()来协同多线程\n",
    "coord = tf.train.Coordinator()\n",
    "\n",
    "# 申明5个线程\n",
    "threads = [threading.Thread(target=MyLoop, args=(coord, i, )) for i in range(5)]\n",
    "\n",
    "# 启动所有线程\n",
    "for t in threads:t.start()\n",
    "\n",
    "# 等待所有线程退出\n",
    "coord.join(threads)\n",
    "print(\"hello world\")"
   ]
  },
  {
   "cell_type": "code",
   "execution_count": null,
   "metadata": {},
   "outputs": [],
   "source": []
  }
 ],
 "metadata": {
  "kernelspec": {
   "display_name": "tensorflow",
   "language": "python",
   "name": "tensorflow"
  },
  "language_info": {
   "codemirror_mode": {
    "name": "ipython",
    "version": 3
   },
   "file_extension": ".py",
   "mimetype": "text/x-python",
   "name": "python",
   "nbconvert_exporter": "python",
   "pygments_lexer": "ipython3",
   "version": "3.6.5"
  }
 },
 "nbformat": 4,
 "nbformat_minor": 1
}
