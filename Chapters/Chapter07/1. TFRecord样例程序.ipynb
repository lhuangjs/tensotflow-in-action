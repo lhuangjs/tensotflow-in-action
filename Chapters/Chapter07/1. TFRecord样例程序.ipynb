{
 "cells": [
  {
   "cell_type": "code",
   "execution_count": 1,
   "metadata": {},
   "outputs": [
    {
     "name": "stdout",
     "output_type": "stream",
     "text": [
      "WARNING:tensorflow:From D:\\software\\anaconda\\envs\\tensorflow\\lib\\site-packages\\tensorflow\\contrib\\learn\\python\\learn\\datasets\\base.py:198: retry (from tensorflow.contrib.learn.python.learn.datasets.base) is deprecated and will be removed in a future version.\n",
      "Instructions for updating:\n",
      "Use the retry module or similar alternatives.\n"
     ]
    }
   ],
   "source": [
    "import tensorflow as tf\n",
    "from tensorflow.examples.tutorials.mnist import input_data\n",
    "import numpy as np"
   ]
  },
  {
   "cell_type": "markdown",
   "metadata": {},
   "source": [
    "#### 1. 将输入转化成TFRecord格式并保存。"
   ]
  },
  {
   "cell_type": "code",
   "execution_count": 6,
   "metadata": {},
   "outputs": [
    {
     "name": "stdout",
     "output_type": "stream",
     "text": [
      "Extracting ../../datasets/MNIST_data\\train-images-idx3-ubyte.gz\n",
      "Extracting ../../datasets/MNIST_data\\train-labels-idx1-ubyte.gz\n",
      "Extracting ../../datasets/MNIST_data\\t10k-images-idx3-ubyte.gz\n",
      "Extracting ../../datasets/MNIST_data\\t10k-labels-idx1-ubyte.gz\n",
      "TFRecord训练文件已保存。\n"
     ]
    }
   ],
   "source": [
    "## \n",
    " # 把所有数据转换成「tf.train.Feature」格式\n",
    "##\n",
    "def _int64_feature(value):\n",
    "    return tf.train.Feature(int64_list=tf.train.Int64List(value=[value]))\n",
    "\n",
    "def _bytes_feature(value):\n",
    "    return tf.train.Feature(bytes_list=tf.train.BytesList(value=[value]))\n",
    "\n",
    "##\n",
    " # 把所有的「tf.train.Features」组合成「tf.train.Example」格式\n",
    "##\n",
    "def _make_example(pixels, label, image):\n",
    "    image_raw = image.tostring()\n",
    "    example = tf.train.Example(features=tf.train.Features(feature={\n",
    "        'pixels': _int64_feature(pixels),\n",
    "        'label': _int64_feature(np.argmax(label)),\n",
    "        'image_raw': _bytes_feature(image_raw)\n",
    "    }))\n",
    "    return example\n",
    "\n",
    "# 读取mnist训练数据。\n",
    "mnist = input_data.read_data_sets(\"../../datasets/MNIST_data\",dtype=tf.uint8, one_hot=True)\n",
    "images = mnist.train.images # (55000, 784)\n",
    "labels = mnist.train.labels # (55000, 10),手写数字(0-9)的类标签\n",
    "pixels = images.shape[1] # 训练数据对用的图像像素作为Example中的一个属性存储（28x28=784）\n",
    "num_examples = mnist.train.num_examples\n",
    "\n",
    "# 输出包含训练数据的TFRecord文件\n",
    "filename = \"../../datasets/mnist_train_data.tfrecord\"\n",
    "with tf.python_io.TFRecordWriter(filename) as writer:\n",
    "    for index in range(num_examples):\n",
    "        example = _make_example(pixels, labels[index], images[index])\n",
    "        writer.write(example.SerializeToString())\n",
    "print(\"TFRecord训练文件已保存。\")"
   ]
  },
  {
   "cell_type": "markdown",
   "metadata": {},
   "source": [
    "#### 2. 读取TFRecord文件"
   ]
  },
  {
   "cell_type": "code",
   "execution_count": 5,
   "metadata": {},
   "outputs": [
    {
     "data": {
      "image/png": "[encoded data removed]",
      "text/plain": [
       "<Figure size 720x720 with 10 Axes>"
      ]
     },
     "metadata": {},
     "output_type": "display_data"
    }
   ],
   "source": [
    "# 使用tf.string_input_producer产生文件名队列\n",
    "filename = [\"../../datasets/mnist_train_data.tfrecord\"] # 列表\n",
    "filename_queue = tf.train.string_input_producer(filename) \n",
    "\n",
    "reader = tf.TFRecordReader()\n",
    "_,serialized_example = reader.read(filename_queue) # 从文件中读取一个样例\n",
    "\n",
    "# 解析读取的样例。\n",
    "features = tf.parse_single_example(\n",
    "    serialized_example,\n",
    "    features={\n",
    "        'image_raw':tf.FixedLenFeature([], tf.string),\n",
    "        'pixels':tf.FixedLenFeature([], tf.int64),\n",
    "        'label':tf.FixedLenFeature([], tf.int64)\n",
    "    })\n",
    "\n",
    "# tf.decode_row可以将字符串解析成图像对应的像素数组\n",
    "images = tf.decode_raw(features['image_raw'], tf.uint8)\n",
    "\n",
    "# tf.cast()函数的作用是执行tensorflow中张量数据类型转换\n",
    "labels = tf.cast(features['label'], tf.int32)\n",
    "pixels = tf.cast(features['pixels'], tf.int32)\n",
    "\n",
    "sess = tf.Session()\n",
    "\n",
    "# 启动多线程处理输入数据。\n",
    "coord = tf.train.Coordinator()\n",
    "threads = tf.train.start_queue_runners(sess=sess,coord=coord)\n",
    "\n",
    "import matplotlib.pyplot as plt\n",
    "\n",
    "plt.figure(figsize=(10, 10))\n",
    "for i in range(10):\n",
    "    image, label, pixel = sess.run([images, labels, pixels])\n",
    "    image_origin = image.reshape(28, 28)\n",
    "    plt.subplot(2, 5, i+1)\n",
    "    plt.title(label)\n",
    "    plt.imshow(image_origin)"
   ]
  },
  {
   "cell_type": "code",
   "execution_count": null,
   "metadata": {},
   "outputs": [],
   "source": []
  }
 ],
 "metadata": {
  "kernelspec": {
   "display_name": "tensorflow",
   "language": "python",
   "name": "tensorflow"
  },
  "language_info": {
   "codemirror_mode": {
    "name": "ipython",
    "version": 3
   },
   "file_extension": ".py",
   "mimetype": "text/x-python",
   "name": "python",
   "nbconvert_exporter": "python",
   "pygments_lexer": "ipython3",
   "version": "3.6.5"
  }
 },
 "nbformat": 4,
 "nbformat_minor": 1
}
