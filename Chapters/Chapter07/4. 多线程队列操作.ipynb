{
 "cells": [
  {
   "cell_type": "code",
   "execution_count": 1,
   "metadata": {},
   "outputs": [],
   "source": [
    "import tensorflow as tf"
   ]
  },
  {
   "cell_type": "markdown",
   "metadata": {},
   "source": [
    "#### 1. 定义队列及其操作。"
   ]
  },
  {
   "cell_type": "code",
   "execution_count": 4,
   "metadata": {},
   "outputs": [],
   "source": [
    "# 申明一个先进先出的队列\n",
    "queue = tf.FIFOQueue(100,\"float\")\n",
    "enqueue_op = queue.enqueue([tf.random_normal([1])])\n",
    "\n",
    "## \n",
    " # tf.train.QueueRunner创建多个线程运行队列入队操作\n",
    " # 第一个参数为被操作的队列\n",
    " # 第二个参数为“每个线程运行的操作” * 线程数\n",
    "## \n",
    "qr = tf.train.QueueRunner(queue, [enqueue_op] * 5)\n",
    "\n",
    "# 将qr加入默认的tf.GraphKeys.QUEUE_RUNNERS集合\n",
    "tf.train.add_queue_runner(qr)\n",
    "\n",
    "# 出队\n",
    "out_tensor = queue.dequeue()"
   ]
  },
  {
   "cell_type": "markdown",
   "metadata": {},
   "source": [
    "#### 2. 启动线程。"
   ]
  },
  {
   "cell_type": "code",
   "execution_count": 5,
   "metadata": {},
   "outputs": [
    {
     "name": "stdout",
     "output_type": "stream",
     "text": [
      "-0.699402\n",
      "-2.14375\n",
      "-0.14765\n"
     ]
    }
   ],
   "source": [
    "with tf.Session() as sess:\n",
    "    \n",
    "    # 使用tf.train.Coordinator来管理启动的线程\n",
    "    coord = tf.train.Coordinator()\n",
    "    \n",
    "    # 启动所有线程\n",
    "    threads = tf.train.start_queue_runners(sess=sess, coord=coord)\n",
    "    \n",
    "    for _ in range(3): print(sess.run(out_tensor)[0])\n",
    "    coord.request_stop()\n",
    "    \n",
    "    # 等待所有线程退出\n",
    "    coord.join(threads)"
   ]
  },
  {
   "cell_type": "code",
   "execution_count": null,
   "metadata": {},
   "outputs": [],
   "source": []
  }
 ],
 "metadata": {
  "kernelspec": {
   "display_name": "tensorflow",
   "language": "python",
   "name": "tensorflow"
  },
  "language_info": {
   "codemirror_mode": {
    "name": "ipython",
    "version": 3
   },
   "file_extension": ".py",
   "mimetype": "text/x-python",
   "name": "python",
   "nbconvert_exporter": "python",
   "pygments_lexer": "ipython3",
   "version": "3.6.5"
  }
 },
 "nbformat": 4,
 "nbformat_minor": 1
}
